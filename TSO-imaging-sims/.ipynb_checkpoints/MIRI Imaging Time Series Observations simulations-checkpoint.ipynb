{
 "cells": [
  {
   "cell_type": "code",
   "execution_count": 29,
   "metadata": {},
   "outputs": [
    {
     "name": "stdout",
     "output_type": "stream",
     "text": [
      "The autoreload extension is already loaded. To reload it, use:\n",
      "  %reload_ext autoreload\n"
     ]
    }
   ],
   "source": [
    "%load_ext autoreload\n",
    "%autoreload"
   ]
  },
  {
   "cell_type": "code",
   "execution_count": 74,
   "metadata": {},
   "outputs": [],
   "source": [
    "import numpy as np\n",
    "import matplotlib.pyplot as plt\n",
    "import os\n",
    "import glob\n",
    "from mirisim.config_parser import SimulatorConfig\n",
    "from mirisim import MiriSimulation\n",
    "import tso_img_sims_setup\n",
    "from tso_img_sims_setup import wasp103_scene, wasp103_sim_config\n",
    "\n",
    "from importlib import reload"
   ]
  },
  {
   "cell_type": "markdown",
   "metadata": {},
   "source": [
    "In this notebook I'm going to generate simulated MIRI time series imaging data, for data management & pipeline testing purposes. To install Mirisim, see the [the public release webpage](http://miri.ster.kuleuven.be/bin/view/Public/MIRISim_Public). The target for the mock observations is WASP-103, an exoplanet host star with the following properties from [the exoplanet encyclopaedia](http://exoplanet.eu/catalog/wasp-103_b/):\n",
    "\n",
    "* spectral type F8V\n",
    "* T_bb = 6110 K\n",
    "* V = 12.0, K = 10.7\n",
    "\n",
    "K magnitude of 10.7 corresponds to a flux of 32.5 mJy or 32.5e3 microJy.\n",
    "\n",
    "Using the ETC, I calculated the following number of groups for a high-SNR but unsaturated image:\n",
    "* FULL array: NGROUPS = 5\n",
    "* SUB64 subarray: NGROUPS = 60\n",
    "\n",
    "We want to simulate a short (NINT = 1), medium (NINT = 10) and long exposure (NINT = 500). In total that's 6 simulations, so let's order them as follows:\n",
    "\n",
    "| Sim no | Array   | NGroups  | NInt   | NExp   |\n",
    "| -------|---------| ---------|--------|--------|\n",
    "|1       |FULL     |  5       | 1      | 1      |\n",
    "|2       |SUB64    |  60      | 1      | 1      |\n",
    "|3       |FULL     |  5       | 10     | 1      |\n",
    "|4       |SUB64    |  60      | 10     | 1      |\n",
    "|5       |FULL     |  5       | 500    | 1      |\n",
    "|6       |SUB64    |  60      | 500    | 1      |\n",
    "\n",
    "### Steps in setting up the simulation\n",
    "\n",
    "This notebook will go through the following steps:\n",
    "\n",
    "* Create the scene\n",
    "* Set up the simulation\n",
    "* Run the simulation\n",
    "\n",
    "Each step has its own function. Steps 1 and 2 will each write out a .ini file, which will be used as input for the final step."
   ]
  },
  {
   "cell_type": "code",
   "execution_count": 75,
   "metadata": {},
   "outputs": [],
   "source": [
    "arr = ['FULL', 'SUB64'] * 3\n",
    "ngrp = [5, 60] * 3\n",
    "nints = [1, 1, 10, 10, 500, 500]\n"
   ]
  },
  {
   "cell_type": "markdown",
   "metadata": {},
   "source": [
    "## Step 1: Creating the input scene (WASP-103)\n",
    "\n",
    "Here we'll create the input scene for the simulations using the function wasp103_scene(). Arguments:\n",
    "\n",
    "* scene_file: the filename for the .ini file\n",
    "* write_cube: write the scene image out to a FITS file (optional; default=False)\n",
    "\n",
    "The function returns a mirisim.skysim.scenes.CompositeSkyScene object.\n"
   ]
  },
  {
   "cell_type": "code",
   "execution_count": 76,
   "metadata": {},
   "outputs": [
    {
     "name": "stderr",
     "output_type": "stream",
     "text": [
      "2019-02-06 13:54:45,944 - INFO - Initializing Point\n",
      "2019-02-06 13:54:45,946 - INFO - Initializing Background\n"
     ]
    },
    {
     "name": "stdout",
     "output_type": "stream",
     "text": [
      "Creating scene. Scene will be written to file wasp103_scene.ini\n",
      "File wasp103_scene.ini already exists. Will be overwritten.\n",
      "wasp103_scene.ini exists, overwrite (y/[n])?y\n"
     ]
    }
   ],
   "source": [
    "scene_ini = wasp103_scene(scene_file='wasp103_scene.ini', write_cube=False)"
   ]
  },
  {
   "cell_type": "code",
   "execution_count": 77,
   "metadata": {},
   "outputs": [
    {
     "name": "stdout",
     "output_type": "stream",
     "text": [
      "wasp103_scene.ini\n"
     ]
    }
   ],
   "source": [
    "print(scene_ini)"
   ]
  },
  {
   "cell_type": "markdown",
   "metadata": {},
   "source": [
    "## Step 2: Configuring the simulation\n",
    "\n",
    "Now I'll set up the simulations and prepare to run them. I'll set it up to loop through the 6 simulations. For this I wrote the function wasp103_sim_config. Check the docstring for descriptions and default values of the arguments. \n",
    "\n",
    "The function will write out another .ini file containing the simulation configuration, and it returns the output filename for further use."
   ]
  },
  {
   "cell_type": "code",
   "execution_count": 78,
   "metadata": {},
   "outputs": [
    {
     "name": "stdout",
     "output_type": "stream",
     "text": [
      "Found scene file wasp103_scene.ini\n",
      "wasp103_FULL_5G1I1E_simconfig.ini exists, overwrite (y/[n])?y\n",
      "wasp103_FULL_5G1I1E_simconfig.ini\n",
      "Found scene file wasp103_scene.ini\n",
      "wasp103_SUB64_60G1I1E_simconfig.ini exists, overwrite (y/[n])?y\n",
      "wasp103_SUB64_60G1I1E_simconfig.ini\n",
      "Found scene file wasp103_scene.ini\n",
      "wasp103_FULL_5G10I1E_simconfig.ini exists, overwrite (y/[n])?y\n",
      "wasp103_FULL_5G10I1E_simconfig.ini\n",
      "Found scene file wasp103_scene.ini\n",
      "wasp103_SUB64_60G10I1E_simconfig.ini exists, overwrite (y/[n])?y\n",
      "wasp103_SUB64_60G10I1E_simconfig.ini\n",
      "Found scene file wasp103_scene.ini\n",
      "wasp103_FULL_5G500I1E_simconfig.ini exists, overwrite (y/[n])?y\n",
      "wasp103_FULL_5G500I1E_simconfig.ini\n",
      "Found scene file wasp103_scene.ini\n",
      "wasp103_SUB64_60G500I1E_simconfig.ini exists, overwrite (y/[n])?y\n",
      "wasp103_SUB64_60G500I1E_simconfig.ini\n"
     ]
    }
   ],
   "source": [
    "#reload(tso_img_sims_setup)\n",
    "#from tso_img_sims_setup import wasp103_sim_config\n",
    "\n",
    "for (a, g, i) in zip(arr, ngrp, nints):\n",
    "    sim_ini = wasp103_sim_config(mode='imaging', arr=a, ngrp=g, nint=i, nexp=1, filt='F770W', \n",
    "                   scene_file=scene_ini, out=True)\n",
    "    print(sim_ini)"
   ]
  },
  {
   "cell_type": "markdown",
   "metadata": {},
   "source": [
    "### Step 3: Run the simulation\n",
    "\n",
    "In the following step we'll run the simulations for the 6 different cases. For each run, we need 3 input files: the scene, the simulation configuration, and the simulator setup file. The first and last of these remain the same for each run, and we loop through the list of 6 simulation config files.\n"
   ]
  },
  {
   "cell_type": "code",
   "execution_count": 79,
   "metadata": {},
   "outputs": [
    {
     "ename": "NameError",
     "evalue": "name 'MiriSimulation' is not defined",
     "output_type": "error",
     "traceback": [
      "\u001b[0;31m---------------------------------------------------------------------------\u001b[0m",
      "\u001b[0;31mNameError\u001b[0m                                 Traceback (most recent call last)",
      "\u001b[0;32m<ipython-input-79-3d8474e0071c>\u001b[0m in \u001b[0;36m<module>\u001b[0;34m()\u001b[0m\n\u001b[1;32m      5\u001b[0m \u001b[0;34m\u001b[0m\u001b[0m\n\u001b[1;32m      6\u001b[0m \u001b[0;32mfor\u001b[0m \u001b[0mf\u001b[0m \u001b[0;32min\u001b[0m \u001b[0mcfg_files\u001b[0m\u001b[0;34m[\u001b[0m\u001b[0;36m1\u001b[0m\u001b[0;34m:\u001b[0m\u001b[0;36m2\u001b[0m\u001b[0;34m]\u001b[0m\u001b[0;34m:\u001b[0m\u001b[0;34m\u001b[0m\u001b[0m\n\u001b[0;32m----> 7\u001b[0;31m     \u001b[0msim\u001b[0m \u001b[0;34m=\u001b[0m \u001b[0mMiriSimulation\u001b[0m\u001b[0;34m(\u001b[0m\u001b[0mf\u001b[0m\u001b[0;34m)\u001b[0m\u001b[0;34m\u001b[0m\u001b[0m\n\u001b[0m\u001b[1;32m      8\u001b[0m     \u001b[0msim\u001b[0m\u001b[0;34m.\u001b[0m\u001b[0mrun\u001b[0m\u001b[0;34m(\u001b[0m\u001b[0;34m)\u001b[0m\u001b[0;34m\u001b[0m\u001b[0m\n",
      "\u001b[0;31mNameError\u001b[0m: name 'MiriSimulation' is not defined"
     ]
    }
   ],
   "source": [
    "cfg_files = glob.glob('*_simconfig.ini')\n",
    "\n",
    "# configure the simulator engine - this requires no editing from the default\n",
    "simulator_config = SimulatorConfig.from_default()\n",
    "\n",
    "for f in cfg_files[1:2]:\n",
    "    sim = MiriSimulation(f)\n",
    "    sim.run()\n"
   ]
  },
  {
   "cell_type": "code",
   "execution_count": null,
   "metadata": {},
   "outputs": [],
   "source": []
  }
 ],
 "metadata": {
  "kernelspec": {
   "display_name": "Python 3",
   "language": "python",
   "name": "python3"
  },
  "language_info": {
   "codemirror_mode": {
    "name": "ipython",
    "version": 3
   },
   "file_extension": ".py",
   "mimetype": "text/x-python",
   "name": "python",
   "nbconvert_exporter": "python",
   "pygments_lexer": "ipython3",
   "version": "3.5.5"
  }
 },
 "nbformat": 4,
 "nbformat_minor": 2
}
