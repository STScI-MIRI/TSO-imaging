{
 "cells": [
  {
   "cell_type": "code",
   "execution_count": 29,
   "metadata": {},
   "outputs": [
    {
     "name": "stdout",
     "output_type": "stream",
     "text": [
      "The autoreload extension is already loaded. To reload it, use:\n",
      "  %reload_ext autoreload\n"
     ]
    }
   ],
   "source": [
    "%load_ext autoreload\n",
    "%autoreload"
   ]
  },
  {
   "cell_type": "code",
   "execution_count": 86,
   "metadata": {},
   "outputs": [],
   "source": [
    "import numpy as np\n",
    "import matplotlib.pyplot as plt\n",
    "import os\n",
    "import glob\n",
    "from mirisim.config_parser import SimulatorConfig\n",
    "from mirisim import MiriSimulation\n",
    "import tso_img_sims_setup\n",
    "from tso_img_sims_setup import wasp103_scene, wasp103_sim_config\n",
    "\n",
    "from importlib import reload"
   ]
  },
  {
   "cell_type": "markdown",
   "metadata": {},
   "source": [
    "In this notebook I'm going to generate simulated MIRI time series imaging data, for data management & pipeline testing purposes. To install Mirisim, see the [the public release webpage](http://miri.ster.kuleuven.be/bin/view/Public/MIRISim_Public). The target for the mock observations is WASP-103, an exoplanet host star with the following properties from [the exoplanet encyclopaedia](http://exoplanet.eu/catalog/wasp-103_b/):\n",
    "\n",
    "* spectral type F8V\n",
    "* T_bb = 6110 K\n",
    "* V = 12.0, K = 10.7\n",
    "\n",
    "K magnitude of 10.7 corresponds to a flux of 32.5 mJy or 32.5e3 microJy.\n",
    "\n",
    "Using the ETC, I calculated the following number of groups for a high-SNR but unsaturated image:\n",
    "* FULL array: NGROUPS = 5\n",
    "* SUB64 subarray: NGROUPS = 60\n",
    "\n",
    "We want to simulate a short (NINT = 1), medium (NINT = 10) and long exposure (NINT = 500). In total that's 6 simulations, so let's order them as follows:\n",
    "\n",
    "| Sim no | Array   | NGroups  | NInt   | NExp   |\n",
    "| -------|---------| ---------|--------|--------|\n",
    "|1       |FULL     |  5       | 1      | 1      |\n",
    "|2       |SUB64    |  60      | 1      | 1      |\n",
    "|3       |FULL     |  5       | 10     | 1      |\n",
    "|4       |SUB64    |  60      | 10     | 1      |\n",
    "|5       |FULL     |  5       | 500    | 1      |\n",
    "|6       |SUB64    |  60      | 500    | 1      |\n",
    "\n",
    "### Steps in setting up the simulation\n",
    "\n",
    "This notebook will go through the following steps:\n",
    "\n",
    "* Create the scene\n",
    "* Set up the simulation\n",
    "* Run the simulation\n",
    "\n",
    "Each step has its own function. Steps 1 and 2 will each write out a .ini file, which will be used as input for the final step."
   ]
  },
  {
   "cell_type": "code",
   "execution_count": 87,
   "metadata": {},
   "outputs": [],
   "source": [
    "arr = ['FULL', 'SUB64'] * 3\n",
    "ngrp = [5, 60] * 3\n",
    "nints = [1, 1, 10, 10, 500, 500]\n"
   ]
  },
  {
   "cell_type": "markdown",
   "metadata": {},
   "source": [
    "## Step 1: Creating the input scene (WASP-103)\n",
    "\n",
    "Here we'll create the input scene for the simulations using the function wasp103_scene(). Arguments:\n",
    "\n",
    "* scene_file: the filename for the .ini file\n",
    "* write_cube: write the scene image out to a FITS file (optional; default=False)\n",
    "\n",
    "The function returns a mirisim.skysim.scenes.CompositeSkyScene object.\n"
   ]
  },
  {
   "cell_type": "code",
   "execution_count": 88,
   "metadata": {},
   "outputs": [
    {
     "name": "stderr",
     "output_type": "stream",
     "text": [
      "2019-02-06 14:08:10,122 - INFO - Initializing Point\n",
      "2019-02-06 14:08:10,126 - INFO - Initializing Background\n"
     ]
    },
    {
     "name": "stdout",
     "output_type": "stream",
     "text": [
      "Creating scene. Scene will be written to file wasp103_scene.ini\n",
      "File wasp103_scene.ini already exists. Will be overwritten.\n",
      "wasp103_scene.ini exists, overwrite (y/[n])?y\n"
     ]
    }
   ],
   "source": [
    "scene_ini = wasp103_scene(scene_file='wasp103_scene.ini', write_cube=False)"
   ]
  },
  {
   "cell_type": "code",
   "execution_count": 89,
   "metadata": {},
   "outputs": [
    {
     "name": "stdout",
     "output_type": "stream",
     "text": [
      "wasp103_scene.ini\n"
     ]
    }
   ],
   "source": [
    "print(scene_ini)"
   ]
  },
  {
   "cell_type": "markdown",
   "metadata": {},
   "source": [
    "## Step 2: Configuring the simulation\n",
    "\n",
    "Now I'll set up the simulations and prepare to run them. I'll set it up to loop through the 6 simulations. For this I wrote the function wasp103_sim_config. Check the docstring for descriptions and default values of the arguments. \n",
    "\n",
    "The function will write out another .ini file containing the simulation configuration, and it returns the output filename for further use."
   ]
  },
  {
   "cell_type": "code",
   "execution_count": 90,
   "metadata": {},
   "outputs": [
    {
     "name": "stdout",
     "output_type": "stream",
     "text": [
      "Found scene file wasp103_scene.ini\n",
      "wasp103_FULL_5G1I1E_simconfig.ini\n",
      "Found scene file wasp103_scene.ini\n",
      "wasp103_SUB64_60G1I1E_simconfig.ini\n",
      "Found scene file wasp103_scene.ini\n",
      "wasp103_FULL_5G10I1E_simconfig.ini\n",
      "Found scene file wasp103_scene.ini\n",
      "wasp103_SUB64_60G10I1E_simconfig.ini\n",
      "Found scene file wasp103_scene.ini\n",
      "wasp103_FULL_5G500I1E_simconfig.ini\n",
      "Found scene file wasp103_scene.ini\n",
      "wasp103_SUB64_60G500I1E_simconfig.ini\n"
     ]
    }
   ],
   "source": [
    "#reload(tso_img_sims_setup)\n",
    "#from tso_img_sims_setup import wasp103_sim_config\n",
    "\n",
    "for (a, g, i) in zip(arr, ngrp, nints):\n",
    "    sim_ini = wasp103_sim_config(mode='imaging', arr=a, ngrp=g, nint=i, nexp=1, filt='F770W', \n",
    "                   scene_file=scene_ini, out=False)\n",
    "    print(sim_ini)"
   ]
  },
  {
   "cell_type": "markdown",
   "metadata": {},
   "source": [
    "### Step 3: Run the simulation\n",
    "\n",
    "In the following step we'll run the simulations for the 6 different cases. For each run, we need 3 input files: the scene, the simulation configuration, and the simulator setup file. The first and last of these remain the same for each run, and we loop through the list of 6 simulation config files.\n",
    "\n",
    "After the simulation has run, the code renames the output directory to include the simulation settings to the directory.\n"
   ]
  },
  {
   "cell_type": "code",
   "execution_count": 102,
   "metadata": {},
   "outputs": [
    {
     "name": "stderr",
     "output_type": "stream",
     "text": [
      "2019-02-06 14:54:58,531 - INFO - Using simulation configuration: wasp103_FULL_5G10I1E_simconfig.ini\n",
      "2019-02-06 14:54:58,536 - INFO - Using scene configuration: wasp103_scene.ini\n",
      "2019-02-06 14:54:58,543 - INFO - MIRISim version: 2.0.0\n",
      "2019-02-06 14:54:58,545 - INFO - MIRI Simulation started.\n",
      "2019-02-06 14:54:58,549 - INFO - Output will be saved to: 20190206_145458_mirisim\n",
      "2019-02-06 14:54:58,552 - INFO - Storing configs in output directory.\n",
      "2019-02-06 14:54:58,559 - INFO - Using $CDP_DIR for location of CDP files: /Users/kendrew//CDP\n",
      "2019-02-06 14:54:58,561 - INFO - Setting up simulated Observation, with following settings:\n",
      "2019-02-06 14:54:58,563 - INFO - Configuration Path: IMA_FULL\n",
      "2019-02-06 14:54:58,566 - INFO - Primary optical path: IMA\n",
      "2019-02-06 14:54:58,568 - INFO - IMA Filter: F770W\n",
      "2019-02-06 14:54:58,571 - INFO - IMA Subarray: FULL\n",
      "2019-02-06 14:54:58,574 - INFO - IMA detector readout mode: FAST\n",
      "2019-02-06 14:54:58,578 - INFO - IMA detector # exposures: 1\n",
      "2019-02-06 14:54:58,580 - INFO - IMA detector # integrations: 10\n",
      "2019-02-06 14:54:58,582 - INFO - IMA detector # frames: 5\n",
      "2019-02-06 14:54:58,584 - INFO - Parsing: point_1\n",
      "2019-02-06 14:54:58,587 - INFO - Initializing Point\n",
      "2019-02-06 14:54:58,593 - INFO - Parsing: Background\n",
      "2019-02-06 14:54:58,596 - INFO - Initializing Background\n",
      "2019-02-06 14:54:58,598 - INFO - Simulating a single pointing.\n",
      "2019-02-06 14:54:58,604 - INFO - Reading 'DISTORTION' model from '/Users/kendrew//CDP/MIRI_FM_MIRIMAGE_DISTORTION_7B.03.00.fits'\n",
      "2019-02-06 14:54:58,931 - INFO - Reading 'DISTORTION' model from '/Users/kendrew//CDP/MIRI_FM_MIRIMAGE_DISTORTION_7B.03.00.fits'\n",
      "2019-02-06 14:54:59,214 - INFO - Reading 'DISTORTION' model from '/Users/kendrew//CDP/MIRI_FM_MIRIMAGE_DISTORTION_7B.03.00.fits'\n",
      "2019-02-06 14:54:59,709 - INFO - Creating pointing for position 1\n",
      "2019-02-06 14:54:59,712 - INFO - Creating exposure event for position 1\n",
      "2019-02-06 14:54:59,717 - INFO - Reading 'DISTORTION' model from '/Users/kendrew//CDP/MIRI_FM_MIRIMAGE_DISTORTION_7B.03.00.fits'\n",
      "2019-02-06 14:55:00,132 - INFO - Observation simulation started.\n",
      "2019-02-06 14:55:00,133 - INFO - Simulating ExposureEvent for pointing 1\n",
      "2019-02-06 14:55:00,136 - INFO - Simulating Imager exposures for pointing 1\n",
      "2019-02-06 14:55:00,140 - INFO - Simulating detector illumination for Imager exposures for pointing 1\n",
      "2019-02-06 14:55:00,142 - INFO - Running ImSim.\n",
      "2019-02-06 14:55:00,145 - INFO - MirimImager processing  version=36, cfgpath=IMA_FULL\n",
      "2019-02-06 14:55:00,148 - INFO - Reading 'AREA' model from '/Users/kendrew//CDP/MIRI_FM_MIRIMAGE_AREA_06.00.00.fits'\n",
      "2019-02-06 14:55:00,242 - INFO - Retrieving PCE CDP for filter : F770W\n",
      "2019-02-06 14:55:00,244 - INFO - Reading 'PCE' model from '/Users/kendrew//CDP/MIRI_FM_MIRIMAGE_F770W_PCE_06.00.00.fits'\n",
      "2019-02-06 14:55:00,420 - INFO - Reading 'PSF' model from '/Users/kendrew//CDP/MIRI_FM_MIRIMAGE_F770W_PSF_05.02.00.fits'\n",
      "2019-02-06 14:55:00,645 - INFO - Reading 'DISTORTION' model from '/Users/kendrew//CDP/MIRI_FM_MIRIMAGE_DISTORTION_7B.03.00.fits'\n",
      "2019-02-06 14:55:01,061 - INFO - Reading 'DISTORTION' model from '/Users/kendrew//CDP/MIRI_FM_MIRIMAGE_DISTORTION_7B.03.00.fits'\n",
      "2019-02-06 14:55:01,409 - INFO - Processing point sources for IMAGER \n",
      "2019-02-06 14:55:12,213 - INFO - No extended sources\n",
      "2019-02-06 14:55:12,222 - INFO - No SkyCube\n",
      "2019-02-06 14:55:12,227 - INFO - Reading 'SKYFLAT' model from '/Users/kendrew//CDP/MIRI_FM_MIRIMAGE_F770W_SKYFLAT_06.00.00.fits'\n",
      "2019-02-06 14:55:12,318 - INFO - Apply Footprint\n",
      "2019-02-06 14:55:12,319 - INFO - Retrieving file for Foot Print : PIXELFLAT\n",
      "2019-02-06 14:55:12,323 - INFO - Reading 'PIXELFLAT' model from '/Users/kendrew//CDP/MIRI_FM_MIRIMAGE_SLOW_F1000W_PIXELFLAT_06.01.00.fits'\n",
      "2019-02-06 14:55:12,675 - INFO - Wrote illumination model: 20190206_145458_mirisim/illum_models/illum_model_1_MIRIMAGE_F770W.fits\n",
      "2019-02-06 14:55:12,677 - INFO - Simulating integrated detector images for Imager exposures for pointing 1\n",
      "2019-02-06 14:55:12,678 - INFO - Simulating IMA exposure 1\n",
      "2019-02-06 14:55:12,685 - INFO - Running SCASim\n",
      "2019-02-06 14:55:12,687 - INFO - Simulating  detector readout for MIRIMAGE from illumination data model of shape (1, 1024, 1024).\n",
      "2019-02-06 14:55:12,708 - INFO - Results will be returned in an exposure data model.\n",
      "2019-02-06 14:55:12,735 - INFO -   Detector readout mode is FAST (samplesum=1, sampleskip=0, nframe=1, groupgap=0) \n",
      "  with 10 integrations and ngroups=5 defined explicitly.\n",
      "  Detector subarray mode is FULL.\n",
      "2019-02-06 14:55:12,751 - INFO - Detector temperature = 6.70 K (which affects dark current and read noise).\n",
      "2019-02-06 14:55:12,752 - INFO - Cosmic ray environment is SOLAR_MIN. (No change.)\n",
      "2019-02-06 14:55:12,753 - INFO - Simulation control flags:\n",
      "\tQuantum efficiency simulation turned OFF.\n",
      "\tPoisson noise simulation turned ON.\n",
      "\tRead noise simulation turned ON.\n",
      "\tReference pixels simulation turned ON.\n",
      "\tBad pixels simulation turned ON.\n",
      "\tDark current simulation turned ON.\n",
      "\tFlat-field simulation turned ON.\n",
      "\tAmplifier bias and gain turned ON.\n",
      "\tDetector non-linearity effects turned ON.\n",
      "\tDetector drift effects turned ON.\n",
      "\tDetector latency effects turned ON.\n",
      "INFO:paramiko.transport.sftp:[chan 0] sftp session closed.\n",
      "INFO:paramiko.transport:Connected (version 2.0, client OpenSSH_5.3)\n",
      "INFO:paramiko.transport:Authentication (password) successful!\n",
      "INFO:paramiko.transport.sftp:[chan 0] Opened sftp connection (server version 3)\n",
      "2019-02-06 14:55:19,441 - INFO - Reading 'MASK' model from '/Users/kendrew//CDP/MIRI_FM_MIRIMAGE_MASK_06.02.00.fits'\n",
      "INFO:paramiko.transport.sftp:[chan 0] sftp session closed.\n",
      "INFO:paramiko.transport:Connected (version 2.0, client OpenSSH_5.3)\n",
      "INFO:paramiko.transport:Authentication (password) successful!\n",
      "INFO:paramiko.transport.sftp:[chan 0] Opened sftp connection (server version 3)\n",
      "2019-02-06 14:55:24,538 - INFO - Reading 'GAIN' model from '/Users/kendrew//CDP/MIRI_FM_MIRIMAGE_GAIN_04.00.00.fits'\n",
      "INFO:paramiko.transport.sftp:[chan 0] sftp session closed.\n",
      "INFO:paramiko.transport:Connected (version 2.0, client OpenSSH_5.3)\n",
      "INFO:paramiko.transport:Authentication (password) successful!\n",
      "INFO:paramiko.transport.sftp:[chan 0] Opened sftp connection (server version 3)\n",
      "2019-02-06 14:55:31,407 - INFO - Reading DARK model from '/Users/kendrew//CDP/MIRI_FM_MIRIMAGE_FAST_DARK_06.01.00.fits'\n",
      "INFO:paramiko.transport.sftp:[chan 0] sftp session closed.\n",
      "INFO:paramiko.transport:Connected (version 2.0, client OpenSSH_5.3)\n",
      "INFO:paramiko.transport:Authentication (password) successful!\n",
      "INFO:paramiko.transport.sftp:[chan 0] Opened sftp connection (server version 3)\n",
      "2019-02-06 14:55:37,226 - INFO - Reading 'PIXELFLAT' model from '/Users/kendrew//CDP/MIRI_FM_MIRIMAGE_FAST_PIXELFLAT_05.01.00.fits'\n",
      "INFO:paramiko.transport.sftp:[chan 0] sftp session closed.\n",
      "INFO:paramiko.transport:Connected (version 2.0, client OpenSSH_5.3)\n",
      "INFO:paramiko.transport:Authentication (password) successful!\n",
      "INFO:paramiko.transport.sftp:[chan 0] Opened sftp connection (server version 3)\n",
      "2019-02-06 14:55:44,047 - INFO - Reading 'LINEARITY' model from '/Users/kendrew//CDP/MIRI_FM_MIRIMAGE_LINEARITY_06.02.00.fits'\n",
      "INFO:paramiko.transport.sftp:[chan 0] sftp session closed.\n",
      "INFO:paramiko.transport:Connected (version 2.0, client OpenSSH_5.3)\n",
      "INFO:paramiko.transport:Authentication (password) successful!\n",
      "INFO:paramiko.transport.sftp:[chan 0] Opened sftp connection (server version 3)\n",
      "2019-02-06 14:55:51,957 - INFO - Reading 'READNOISE' model from '/Users/kendrew//CDP/MIRI_FM_MIRIMAGE_FAST_READNOISE_06.01.00.fits'\n",
      "2019-02-06 14:55:52,041 - INFO - Creating exposure_data with 1280 rows x 1032 columns plus 5 groups and 10 ints.\n",
      "2019-02-06 14:55:52,218 - INFO - Simulating 10 integrations.\n",
      "2019-02-06 14:55:52,329 - INFO - Simulating 5 groups for integration 1.\n",
      "2019-02-06 14:55:53,928 - INFO - Simulating 5 groups for integration 2.\n",
      "2019-02-06 14:55:55,609 - INFO - Simulating 5 groups for integration 3.\n",
      "2019-02-06 14:55:57,266 - INFO - Simulating 5 groups for integration 4.\n",
      "2019-02-06 14:55:58,962 - INFO - Simulating 5 groups for integration 5.\n",
      "2019-02-06 14:56:00,659 - INFO - Simulating 5 groups for integration 6.\n",
      "2019-02-06 14:56:03,813 - INFO - Simulating 5 groups for integration 7.\n"
     ]
    },
    {
     "name": "stderr",
     "output_type": "stream",
     "text": [
      "2019-02-06 14:56:05,977 - INFO - Simulating 5 groups for integration 8.\n",
      "2019-02-06 14:56:07,652 - INFO - Simulating 5 groups for integration 9.\n",
      "2019-02-06 14:56:09,249 - INFO - Simulating 5 groups for integration 10.\n",
      "2019-02-06 14:56:11,247 - INFO - Adding the DARK calibration from /Users/kendrew//CDP/MIRI_FM_MIRIMAGE_FAST_DARK_06.01.00.fits\n",
      "2019-02-06 14:56:11,958 - INFO - Correcting nonlinearity from MIRI_FM_MIRIMAGE_LINEARITY_06.02.00.fits\n",
      "2019-02-06 14:56:19,857 - INFO - Exposure time 138.75s (duration 139.81s) \n",
      "2019-02-06 14:56:23,606 - INFO - Wrote detector image: 20190206_145458_mirisim/det_images/det_image_seq1_MIRIMAGE_F770Wexp1.fits\n",
      "2019-02-06 14:56:23,609 - INFO - MIRI Simulation finished. Results have been saved to: 20190206_145458_mirisim\n",
      "\n",
      "2019-02-06 14:56:23,611 - INFO - Using simulation configuration: wasp103_FULL_5G1I1E_simconfig.ini\n",
      "2019-02-06 14:56:23,616 - INFO - Using scene configuration: wasp103_scene.ini\n",
      "2019-02-06 14:56:23,621 - INFO - MIRISim version: 2.0.0\n",
      "2019-02-06 14:56:23,623 - INFO - MIRI Simulation started.\n",
      "2019-02-06 14:56:23,624 - INFO - Output will be saved to: 20190206_145623_mirisim\n",
      "2019-02-06 14:56:23,626 - INFO - Storing configs in output directory.\n",
      "2019-02-06 14:56:23,630 - INFO - Using $CDP_DIR for location of CDP files: /Users/kendrew//CDP\n",
      "2019-02-06 14:56:23,631 - INFO - Setting up simulated Observation, with following settings:\n",
      "2019-02-06 14:56:23,635 - INFO - Configuration Path: IMA_FULL\n",
      "2019-02-06 14:56:23,636 - INFO - Primary optical path: IMA\n",
      "2019-02-06 14:56:23,639 - INFO - IMA Filter: F770W\n",
      "2019-02-06 14:56:23,640 - INFO - IMA Subarray: FULL\n",
      "2019-02-06 14:56:23,642 - INFO - IMA detector readout mode: FAST\n",
      "2019-02-06 14:56:23,644 - INFO - IMA detector # exposures: 1\n",
      "2019-02-06 14:56:23,645 - INFO - IMA detector # integrations: 1\n",
      "2019-02-06 14:56:23,647 - INFO - IMA detector # frames: 5\n",
      "2019-02-06 14:56:23,648 - INFO - Parsing: point_1\n",
      "2019-02-06 14:56:23,650 - INFO - Initializing Point\n",
      "2019-02-06 14:56:23,651 - INFO - Parsing: Background\n",
      "2019-02-06 14:56:23,653 - INFO - Initializing Background\n",
      "2019-02-06 14:56:23,655 - INFO - Simulating a single pointing.\n",
      "2019-02-06 14:56:23,660 - INFO - Reading 'DISTORTION' model from '/Users/kendrew//CDP/MIRI_FM_MIRIMAGE_DISTORTION_7B.03.00.fits'\n"
     ]
    },
    {
     "name": "stdout",
     "output_type": "stream",
     "text": [
      "20190206_145458_mirisim wasp103_imtso_FULL_5G10I1E_20190206_145458_mirisim\n"
     ]
    },
    {
     "name": "stderr",
     "output_type": "stream",
     "text": [
      "2019-02-06 14:56:23,963 - INFO - Reading 'DISTORTION' model from '/Users/kendrew//CDP/MIRI_FM_MIRIMAGE_DISTORTION_7B.03.00.fits'\n",
      "2019-02-06 14:56:24,257 - INFO - Reading 'DISTORTION' model from '/Users/kendrew//CDP/MIRI_FM_MIRIMAGE_DISTORTION_7B.03.00.fits'\n",
      "2019-02-06 14:56:24,724 - INFO - Creating pointing for position 1\n",
      "2019-02-06 14:56:24,726 - INFO - Creating exposure event for position 1\n",
      "2019-02-06 14:56:24,729 - INFO - Reading 'DISTORTION' model from '/Users/kendrew//CDP/MIRI_FM_MIRIMAGE_DISTORTION_7B.03.00.fits'\n",
      "2019-02-06 14:56:25,036 - INFO - Observation simulation started.\n",
      "2019-02-06 14:56:25,037 - INFO - Simulating ExposureEvent for pointing 1\n",
      "2019-02-06 14:56:25,039 - INFO - Simulating Imager exposures for pointing 1\n",
      "2019-02-06 14:56:25,041 - INFO - Simulating detector illumination for Imager exposures for pointing 1\n",
      "2019-02-06 14:56:25,042 - INFO - Running ImSim.\n",
      "2019-02-06 14:56:25,043 - INFO - MirimImager processing  version=36, cfgpath=IMA_FULL\n",
      "2019-02-06 14:56:25,048 - INFO - Reading 'AREA' model from '/Users/kendrew//CDP/MIRI_FM_MIRIMAGE_AREA_06.00.00.fits'\n",
      "2019-02-06 14:56:25,120 - INFO - Retrieving PCE CDP for filter : F770W\n",
      "2019-02-06 14:56:25,122 - INFO - Reading 'PCE' model from '/Users/kendrew//CDP/MIRI_FM_MIRIMAGE_F770W_PCE_06.00.00.fits'\n",
      "2019-02-06 14:56:25,246 - INFO - Reading 'PSF' model from '/Users/kendrew//CDP/MIRI_FM_MIRIMAGE_F770W_PSF_05.02.00.fits'\n",
      "2019-02-06 14:56:25,420 - INFO - Reading 'DISTORTION' model from '/Users/kendrew//CDP/MIRI_FM_MIRIMAGE_DISTORTION_7B.03.00.fits'\n",
      "2019-02-06 14:56:25,909 - INFO - Reading 'DISTORTION' model from '/Users/kendrew//CDP/MIRI_FM_MIRIMAGE_DISTORTION_7B.03.00.fits'\n",
      "2019-02-06 14:56:26,242 - INFO - Processing point sources for IMAGER \n",
      "2019-02-06 14:56:35,182 - INFO - No extended sources\n",
      "2019-02-06 14:56:35,191 - INFO - No SkyCube\n",
      "2019-02-06 14:56:35,197 - INFO - Reading 'SKYFLAT' model from '/Users/kendrew//CDP/MIRI_FM_MIRIMAGE_F770W_SKYFLAT_06.00.00.fits'\n",
      "2019-02-06 14:56:35,303 - INFO - Apply Footprint\n",
      "2019-02-06 14:56:35,306 - INFO - Retrieving file for Foot Print : PIXELFLAT\n",
      "2019-02-06 14:56:35,313 - INFO - Reading 'PIXELFLAT' model from '/Users/kendrew//CDP/MIRI_FM_MIRIMAGE_SLOW_F1000W_PIXELFLAT_06.01.00.fits'\n",
      "2019-02-06 14:56:35,711 - INFO - Wrote illumination model: 20190206_145623_mirisim/illum_models/illum_model_1_MIRIMAGE_F770W.fits\n",
      "2019-02-06 14:56:35,712 - INFO - Simulating integrated detector images for Imager exposures for pointing 1\n",
      "2019-02-06 14:56:35,714 - INFO - Simulating IMA exposure 1\n",
      "2019-02-06 14:56:35,719 - INFO - Running SCASim\n",
      "2019-02-06 14:56:35,720 - INFO - Simulating  detector readout for MIRIMAGE from illumination data model of shape (1, 1024, 1024).\n",
      "2019-02-06 14:56:35,741 - INFO - Results will be returned in an exposure data model.\n",
      "2019-02-06 14:56:35,767 - INFO -   Detector readout mode is FAST (samplesum=1, sampleskip=0, nframe=1, groupgap=0) \n",
      "  with 1 integrations and ngroups=5 defined explicitly.\n",
      "  Detector subarray mode is FULL.\n",
      "2019-02-06 14:56:35,782 - INFO - Detector temperature = 6.70 K (which affects dark current and read noise).\n",
      "2019-02-06 14:56:35,783 - INFO - Cosmic ray environment is SOLAR_MIN. (No change.)\n",
      "2019-02-06 14:56:35,784 - INFO - Simulation control flags:\n",
      "\tQuantum efficiency simulation turned OFF.\n",
      "\tPoisson noise simulation turned ON.\n",
      "\tRead noise simulation turned ON.\n",
      "\tReference pixels simulation turned ON.\n",
      "\tBad pixels simulation turned ON.\n",
      "\tDark current simulation turned ON.\n",
      "\tFlat-field simulation turned ON.\n",
      "\tAmplifier bias and gain turned ON.\n",
      "\tDetector non-linearity effects turned ON.\n",
      "\tDetector drift effects turned ON.\n",
      "\tDetector latency effects turned ON.\n",
      "INFO:paramiko.transport.sftp:[chan 0] sftp session closed.\n",
      "INFO:paramiko.transport:Connected (version 2.0, client OpenSSH_5.3)\n",
      "INFO:paramiko.transport:Authentication (password) successful!\n",
      "INFO:paramiko.transport.sftp:[chan 0] Opened sftp connection (server version 3)\n",
      "2019-02-06 14:56:42,423 - INFO - Reading 'MASK' model from '/Users/kendrew//CDP/MIRI_FM_MIRIMAGE_MASK_06.02.00.fits'\n",
      "INFO:paramiko.transport.sftp:[chan 0] sftp session closed.\n",
      "INFO:paramiko.transport:Connected (version 2.0, client OpenSSH_5.3)\n",
      "INFO:paramiko.transport:Authentication (password) successful!\n",
      "INFO:paramiko.transport.sftp:[chan 0] Opened sftp connection (server version 3)\n",
      "2019-02-06 14:56:48,235 - INFO - Reading 'GAIN' model from '/Users/kendrew//CDP/MIRI_FM_MIRIMAGE_GAIN_04.00.00.fits'\n",
      "INFO:paramiko.transport.sftp:[chan 0] sftp session closed.\n",
      "INFO:paramiko.transport:Connected (version 2.0, client OpenSSH_5.3)\n",
      "INFO:paramiko.transport:Authentication (password) successful!\n",
      "INFO:paramiko.transport.sftp:[chan 0] Opened sftp connection (server version 3)\n",
      "2019-02-06 14:56:53,978 - INFO - Reading DARK model from '/Users/kendrew//CDP/MIRI_FM_MIRIMAGE_FAST_DARK_06.01.00.fits'\n",
      "INFO:paramiko.transport.sftp:[chan 0] sftp session closed.\n",
      "INFO:paramiko.transport:Connected (version 2.0, client OpenSSH_5.3)\n",
      "INFO:paramiko.transport:Authentication (password) successful!\n",
      "INFO:paramiko.transport.sftp:[chan 0] Opened sftp connection (server version 3)\n",
      "2019-02-06 14:57:00,995 - INFO - Reading 'PIXELFLAT' model from '/Users/kendrew//CDP/MIRI_FM_MIRIMAGE_FAST_PIXELFLAT_05.01.00.fits'\n",
      "INFO:paramiko.transport.sftp:[chan 0] sftp session closed.\n",
      "INFO:paramiko.transport:Connected (version 2.0, client OpenSSH_5.3)\n",
      "INFO:paramiko.transport:Authentication (password) successful!\n",
      "INFO:paramiko.transport.sftp:[chan 0] Opened sftp connection (server version 3)\n",
      "2019-02-06 14:57:06,274 - INFO - Reading 'LINEARITY' model from '/Users/kendrew//CDP/MIRI_FM_MIRIMAGE_LINEARITY_06.02.00.fits'\n",
      "INFO:paramiko.transport.sftp:[chan 0] sftp session closed.\n",
      "INFO:paramiko.transport:Connected (version 2.0, client OpenSSH_5.3)\n",
      "INFO:paramiko.transport:Authentication (password) successful!\n",
      "INFO:paramiko.transport.sftp:[chan 0] Opened sftp connection (server version 3)\n",
      "2019-02-06 14:57:12,847 - INFO - Reading 'READNOISE' model from '/Users/kendrew//CDP/MIRI_FM_MIRIMAGE_FAST_READNOISE_06.01.00.fits'\n",
      "2019-02-06 14:57:12,948 - INFO - Creating exposure_data with 1280 rows x 1032 columns plus 5 groups and 1 ints.\n",
      "2019-02-06 14:57:13,114 - INFO - Simulating 1 integration.\n",
      "2019-02-06 14:57:13,200 - INFO - Simulating 5 groups for integration 1.\n",
      "2019-02-06 14:57:15,105 - INFO - Adding the DARK calibration from /Users/kendrew//CDP/MIRI_FM_MIRIMAGE_FAST_DARK_06.01.00.fits\n",
      "2019-02-06 14:57:15,198 - INFO - Correcting nonlinearity from MIRI_FM_MIRIMAGE_LINEARITY_06.02.00.fits\n",
      "2019-02-06 14:57:21,670 - INFO - Exposure time 13.88s (duration 14.93s) \n",
      "2019-02-06 14:57:22,271 - INFO - Wrote detector image: 20190206_145623_mirisim/det_images/det_image_seq1_MIRIMAGE_F770Wexp1.fits\n",
      "2019-02-06 14:57:22,275 - INFO - MIRI Simulation finished. Results have been saved to: 20190206_145623_mirisim\n",
      "\n"
     ]
    },
    {
     "name": "stdout",
     "output_type": "stream",
     "text": [
      "20190206_145623_mirisim wasp103_imtso_FULL_5G1I1E_20190206_145623_mirisim\n"
     ]
    }
   ],
   "source": [
    "cfg_files = glob.glob('*_simconfig.ini')\n",
    "\n",
    "# configure the simulator engine - this requires no editing from the default\n",
    "simulator_config = SimulatorConfig.from_default()\n",
    "\n",
    "for f in cfg_files[:2]:\n",
    "    tmp = f.split('.')\n",
    "    fcomps = tmp[0].split('_')\n",
    "    sim = MiriSimulation.from_configfiles(f)\n",
    "    sim.run()\n",
    "    outdir = sorted(glob.glob('*_*_mirisim'), key=os.path.getmtime )[-1]\n",
    "    new_outdir = 'wasp103_imtso_{0}_{1}_{2}'.format(fcomps[1], fcomps[2], outdir)\n",
    "    os.rename(outdir, new_outdir)\n",
    "    print(outdir, new_outdir)\n"
   ]
  },
  {
   "cell_type": "code",
   "execution_count": null,
   "metadata": {},
   "outputs": [],
   "source": []
  }
 ],
 "metadata": {
  "kernelspec": {
   "display_name": "Python 3",
   "language": "python",
   "name": "python3"
  },
  "language_info": {
   "codemirror_mode": {
    "name": "ipython",
    "version": 3
   },
   "file_extension": ".py",
   "mimetype": "text/x-python",
   "name": "python",
   "nbconvert_exporter": "python",
   "pygments_lexer": "ipython3",
   "version": "3.5.5"
  }
 },
 "nbformat": 4,
 "nbformat_minor": 2
}
