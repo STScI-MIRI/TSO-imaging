{
 "cells": [
  {
   "cell_type": "code",
   "execution_count": 1,
   "metadata": {},
   "outputs": [],
   "source": [
    "import numpy as np\n",
    "import matplotlib.pyplot as plt\n",
    "import os\n",
    "import glob\n",
    "\n",
    "from tso_img_sims_setup import wasp103_scene"
   ]
  },
  {
   "cell_type": "markdown",
   "metadata": {},
   "source": [
    "In this notebook I'm going to generate simulated MIRI time series imaging data, for data management & pipeline testing purposes. To install Mirisim, see the [the public release webpage](http://miri.ster.kuleuven.be/bin/view/Public/MIRISim_Public). The target for the mock observations is WASP-103, an exoplanet host star with the following properties from [the exoplanet encyclopaedia](http://exoplanet.eu/catalog/wasp-103_b/):\n",
    "\n",
    "* spectral type F8V\n",
    "* T_bb = 6110 K\n",
    "* V = 12.0, K = 10.7\n",
    "\n",
    "K magnitude of 10.7 corresponds to a flux of 32.5 mJy or 32.5e3 microJy.\n",
    "\n",
    "Using the ETC, I calculated the following number of groups for a high-SNR but unsaturated image:\n",
    "* FULL array: NGROUPS = 5\n",
    "* SUB64 subarray: NGROUPS = 60\n",
    "\n",
    "We want to simulate a short (NINT = 1), medium (NINT = 10) and long exposure (NINT = 500). In total that's 6 simulations, so let's order them as follows:\n",
    "\n",
    "| Sim no | Array   | NGroups  | NInt   | NExp   |\n",
    "| -------|---------| ---------|--------|--------|\n",
    "|1       |FULL     |  5       | 1      | 1      |\n",
    "|2       |SUB64    |  60      | 1      | 1      |\n",
    "|3       |FULL     |  5       | 10     | 1      |\n",
    "|4       |SUB64    |  60      | 10     | 1      |\n",
    "|5       |FULL     |  5       | 500    | 1      |\n",
    "|6       |SUB64    |  60      | 500    | 1      |"
   ]
  },
  {
   "cell_type": "code",
   "execution_count": 2,
   "metadata": {},
   "outputs": [],
   "source": [
    "arr = ['FULL', 'SUB64'] * 3\n",
    "nints = [1, 1, 10, 10, 500, 500]"
   ]
  },
  {
   "cell_type": "markdown",
   "metadata": {},
   "source": [
    "## WASP-103: Creating the input scene\n",
    "\n",
    "Here we'll create the input scene for the simulations using the function wasp103_scene(). Optional arguments:\n",
    "\n",
    "* write_scene: write the scene to a .ini file (default=True)\n",
    "* write_cube: write the scene image out to a FITS file (default=False)\n",
    "\n",
    "The function returns a mirisim.skysim.scenes.CompositeSkyScene object, that can be used as input for the simulation.\n"
   ]
  },
  {
   "cell_type": "code",
   "execution_count": 4,
   "metadata": {},
   "outputs": [
    {
     "name": "stderr",
     "output_type": "stream",
     "text": [
      "2019-02-01 16:46:32,988 - INFO - Initializing Point\n",
      "2019-02-01 16:46:32,990 - INFO - Initializing Background\n"
     ]
    },
    {
     "name": "stdout",
     "output_type": "stream",
     "text": [
      "wasp103_scene.ini exists, overwrite (y/[n])?y\n"
     ]
    }
   ],
   "source": [
    "inp_scene = wasp103_scene(write_scene=True, write_cube=False)"
   ]
  },
  {
   "cell_type": "markdown",
   "metadata": {},
   "source": [
    "## Setting up the simulations\n",
    "\n",
    "Now we'll "
   ]
  }
 ],
 "metadata": {
  "kernelspec": {
   "display_name": "Python 3",
   "language": "python",
   "name": "python3"
  },
  "language_info": {
   "codemirror_mode": {
    "name": "ipython",
    "version": 3
   },
   "file_extension": ".py",
   "mimetype": "text/x-python",
   "name": "python",
   "nbconvert_exporter": "python",
   "pygments_lexer": "ipython3",
   "version": "3.5.5"
  }
 },
 "nbformat": 4,
 "nbformat_minor": 2
}
